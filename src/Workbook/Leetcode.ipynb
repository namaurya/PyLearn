{
 "cells": [
  {
   "cell_type": "markdown",
   "metadata": {},
   "source": [
    "<h2>Solutions</h2>\n",
    "\n",
    "| S.No. \t| Category \t| Question \t| Difficulty \t| Summary \t|\n",
    "|---\t|---\t|---\t|---\t|---\t|\n",
    "| 1 \t| Array \t| [TwoSum](#twosum)\t| Easy \t| Two sum is sum of any two items in an array which result the target. To solve this, we can maintain a **cache** dictionary, which will maintain   key as the `target - nums[position]` and value as `position` We enumerate the nums :  If **cache** contains the `target - nums[position]`   then we return the `cache[target-nums[position], position`   else we add `cache[nums[position]] = position` \t|"
   ]
  },
  {
   "cell_type": "markdown",
   "metadata": {},
   "source": [
    "[TwoSum](#twosum) : <a id='twosum'></a>"
   ]
  },
  {
   "cell_type": "code",
   "execution_count": 11,
   "metadata": {
    "tags": [
     "parameters"
    ]
   },
   "outputs": [
    {
     "name": "stdout",
     "output_type": "stream",
     "text": [
      "(0, 1)\n"
     ]
    }
   ],
   "source": [
    "from typing import List\n",
    "def twoSum(nums: List[int], target: int) -> List[int]:\n",
    "   ret = [-1,-1]\n",
    "   if(nums is None or len(nums) <=1):\n",
    "    return ret\n",
    "   cache = {}\n",
    "   for i in range(len(nums)):\n",
    "    if target - nums[i] in cache:\n",
    "        return cache[target - nums[i]], i\n",
    "    cache[nums[i]] = i\n",
    "\n",
    "print(twoSum([2,7,11,15], 9))\n"
   ]
  },
  {
   "cell_type": "markdown",
   "metadata": {},
   "source": [
    "[Remove Duplicates from Sorted Array](#removeduplicatesfromsortedarray) : <a id='removeduplicatesfromsortedarray'></a>"
   ]
  }
 ],
 "metadata": {
  "kernelspec": {
   "display_name": "Python 3",
   "language": "python",
   "name": "python3"
  },
  "language_info": {
   "codemirror_mode": {
    "name": "ipython",
    "version": 3
   },
   "file_extension": ".py",
   "mimetype": "text/x-python",
   "name": "python",
   "nbconvert_exporter": "python",
   "pygments_lexer": "ipython3",
   "version": "3.10.11"
  },
  "orig_nbformat": 4
 },
 "nbformat": 4,
 "nbformat_minor": 2
}
