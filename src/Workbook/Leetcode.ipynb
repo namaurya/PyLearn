{
 "cells": [
  {
   "cell_type": "markdown",
   "metadata": {},
   "source": [
    "<h2>Solutions</h2>\n",
    "\n",
    "| S.No. \t| Category \t| Question \t| Difficulty \t| Summary \t|\n",
    "|---\t|---\t|---\t|---\t|---\t|\n",
    "| 1 \t| Array \t| [TwoSum](#twosum)\t| Easy \t| Two sum is sum of any two items in an array which result the target. To solve this, we can maintain a **cache** dictionary, which will maintain   key as the `target - nums[position]` and value as `position` We enumerate the nums :  If **cache** contains the `target - nums[position]`   then we return the `cache[target-nums[position], position`   else we add `cache[nums[position]] = position` \t|\n",
    "| 2 \t| Array \t| [Remove Duplicates from <br>Sorted Array](#removeduplicatesfromsortedarray) \t| Easy \t| To remove the Duplicates from Sorted Array, we need to use<br> `Two Pointer approach`. _Pointer_ **currentIndex** and **nextIndex** will be assign to 0 position <br>and will run below loop till **nextIndex** is less than items in _nums_ <br><br>1.    if item at currentIndex is not equals to item at **nextIndex**, <br>2.         then increase **currentIndex** by 1 and assign item at **nextIndex** to item at **currentIndex**<br>3.    increase **nextIndex** by 1.<br>4. return **currentIndex + 1** \t| Array \\| Two Pointer \t|"
   ]
  },
  {
   "cell_type": "markdown",
   "metadata": {},
   "source": [
    "[TwoSum](#twosum) : <a id='twosum'></a>"
   ]
  },
  {
   "cell_type": "code",
   "execution_count": 11,
   "metadata": {
    "tags": [
     "parameters"
    ]
   },
   "outputs": [
    {
     "name": "stdout",
     "output_type": "stream",
     "text": [
      "(0, 1)\n"
     ]
    }
   ],
   "source": [
    "from typing import List\n",
    "def twoSum(nums: List[int], target: int) -> List[int]:\n",
    "   ret = [-1,-1]\n",
    "   if(nums is None or len(nums) <=1):\n",
    "    return ret\n",
    "   cache = {}\n",
    "   for i in range(len(nums)):\n",
    "    if target - nums[i] in cache:\n",
    "        return cache[target - nums[i]], i\n",
    "    cache[nums[i]] = i\n",
    "\n",
    "print(twoSum([2,7,11,15], 9))\n"
   ]
  },
  {
   "cell_type": "markdown",
   "metadata": {},
   "source": [
    "[Remove Duplicates from Sorted Array](#removeduplicatesfromsortedarray) : <a id='removeduplicatesfromsortedarray'></a>"
   ]
  },
  {
   "cell_type": "code",
   "execution_count": 3,
   "metadata": {},
   "outputs": [
    {
     "data": {
      "text/plain": [
       "2"
      ]
     },
     "execution_count": 3,
     "metadata": {},
     "output_type": "execute_result"
    }
   ],
   "source": [
    "from typing import List\n",
    "def removeDuplicates( nums: List[int]) -> int:\n",
    "        if nums is None or len(nums) == 0:\n",
    "            return 0\n",
    "        if len(nums) == 1:\n",
    "            return 1\n",
    "        currentIndex = 0\n",
    "        nextIndex = 1\n",
    "        \n",
    "        while nextIndex < len(nums):\n",
    "            if nums[currentIndex] != nums[nextIndex]:\n",
    "                currentIndex += 1\n",
    "                nums[currentIndex] = nums[nextIndex]\n",
    "            nextIndex += 1\n",
    "        return currentIndex + 1\n",
    "\n",
    "removeDuplicates([1,1,2])"
   ]
  }
 ],
 "metadata": {
  "kernelspec": {
   "display_name": "Python 3",
   "language": "python",
   "name": "python3"
  },
  "language_info": {
   "codemirror_mode": {
    "name": "ipython",
    "version": 3
   },
   "file_extension": ".py",
   "mimetype": "text/x-python",
   "name": "python",
   "nbconvert_exporter": "python",
   "pygments_lexer": "ipython3",
   "version": "3.10.11"
  },
  "orig_nbformat": 4
 },
 "nbformat": 4,
 "nbformat_minor": 2
}
