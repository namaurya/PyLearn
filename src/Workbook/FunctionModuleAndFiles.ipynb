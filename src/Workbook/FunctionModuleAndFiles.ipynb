{
 "cells": [
  {
   "cell_type": "markdown",
   "metadata": {},
   "source": [
    "<h1><b>This will contains the basic PYTHON operation</b></h1>"
   ]
  },
  {
   "cell_type": "markdown",
   "metadata": {},
   "source": [
    "<h3><b>TASK #1 </b>Extract the data from File's Name</h3>\n",
    "<ul>\n",
    "<li>Read the filename</li>\n",
    "<li>Break the filename apart by the “-” character</li>\n",
    "<li>Put the swimmer’s name, age group, distance , and stroke into variables (so they can be used later)</li>\n",
    "</ul>"
   ]
  },
  {
   "cell_type": "code",
   "execution_count": 26,
   "metadata": {},
   "outputs": [
    {
     "name": "stdout",
     "output_type": "stream",
     "text": [
      "Darius\n",
      "13\n",
      "100m\n",
      "Fly\n"
     ]
    }
   ],
   "source": [
    "fn = \"Darius-13-100m-Fly.txt\"\n",
    "res = fn.removesuffix(\".txt\").split(\"-\")\n",
    "print(res[0])\n",
    "print(res[1])\n",
    "print(res[2])\n",
    "print(res[3])"
   ]
  },
  {
   "cell_type": "markdown",
   "metadata": {},
   "source": [
    "<h3>How to make it more readable</h3>\n",
    "<em>We can do multiple assignment at once aka <b>Unpacking</b></em>"
   ]
  },
  {
   "cell_type": "code",
   "execution_count": 27,
   "metadata": {},
   "outputs": [
    {
     "name": "stdout",
     "output_type": "stream",
     "text": [
      "Darius 13 100m Fly\n"
     ]
    }
   ],
   "source": [
    "swimmer,age,category,type = fn.removesuffix(\".txt\").split(\"-\")\n",
    "\n",
    "print(swimmer,age,category,type)"
   ]
  },
  {
   "cell_type": "markdown",
   "metadata": {},
   "source": [
    "<h3><b>TASK #2</b> Process the data in the file</h3>\n",
    "\n",
    "<ul>\n",
    "<li>Read the lines from the file</li>\n",
    "<li>Ignore the second line</li>\n",
    "<li>Break the first line apart by “,” to produce a list of times</li>\n",
    "<li>Take each of the times and convert them to a number from the “mins:secs.hundredths” format</li>\n",
    "<li>Display the variables from Task #1, then the list of times and the calculated average from Task #2</li>\n",
    "</ul>"
   ]
  },
  {
   "cell_type": "code",
   "execution_count": 28,
   "metadata": {},
   "outputs": [
    {
     "name": "stdout",
     "output_type": "stream",
     "text": [
      "['1:27.95,1:21.07,1:30.96,1:23.22,1:27.95,1:28.30\\n']\n"
     ]
    }
   ],
   "source": [
    "#Read the lines from the file\n",
    "#Ignore the second line\n",
    "\n",
    "#readlines() returns a list of lines from the file with a newline character at the end of each line.\n",
    "FN = \"Darius-13-100m-Fly.txt\"\n",
    "FOLDER=\"assets\\\\swimdata\"\n",
    "data = \"\"\n",
    "with open(FOLDER+'\\\\'+FN) as df:\n",
    "    data = df.readlines()\n",
    "    print(data)"
   ]
  },
  {
   "cell_type": "code",
   "execution_count": 29,
   "metadata": {},
   "outputs": [
    {
     "name": "stdout",
     "output_type": "stream",
     "text": [
      "['1:27.95', '1:21.07', '1:30.96', '1:23.22', '1:27.95', '1:28.30']\n"
     ]
    }
   ],
   "source": [
    "#Break the line apart by \",\" to produce a list of items\n",
    "times = data[0].strip().split(\",\")\n",
    "print(times)"
   ]
  },
  {
   "cell_type": "code",
   "execution_count": 30,
   "metadata": {},
   "outputs": [
    {
     "name": "stdout",
     "output_type": "stream",
     "text": [
      "[8795, 8107, 9096, 8322, 8795, 8830]\n"
     ]
    }
   ],
   "source": [
    "#Take each of the times and convert them to a number from the “mins:secs.hundredths” format\n",
    "converts =[]\n",
    "for data in times:\n",
    "    minutes, rest = data.split(':')\n",
    "    seconds, hundredths = rest.split('.')\n",
    "    converted_time = int(minutes)*60*100+int(seconds)*100+int(hundredths)\n",
    "    converts.append(converted_time)\n",
    "\n",
    "print(converts)"
   ]
  },
  {
   "cell_type": "code",
   "execution_count": 31,
   "metadata": {},
   "outputs": [
    {
     "name": "stdout",
     "output_type": "stream",
     "text": [
      "8657.5\n"
     ]
    }
   ],
   "source": [
    "#Calculate the average\n",
    "import statistics\n",
    "avg= statistics.mean(converts)\n",
    "print(avg)"
   ]
  },
  {
   "cell_type": "code",
   "execution_count": 32,
   "metadata": {},
   "outputs": [
    {
     "name": "stdout",
     "output_type": "stream",
     "text": [
      "86.575\n",
      "86.58\n",
      "1:26.58\n"
     ]
    }
   ],
   "source": [
    "#Convert the result into mins:secs.hundreths format\n",
    "# Divide the avg by 100 will give seconds and hundredths\n",
    "print(avg/100)\n",
    "rounded_avg = round(avg/100,2)\n",
    "print(rounded_avg)\n",
    "min_sec,hundredths = str(rounded_avg).split('.')\n",
    "min = int(min_sec)//60\n",
    "sec =  int(min_sec) - min*60\n",
    "print(str(min)+':'+str(sec)+'.'+hundredths)\n"
   ]
  },
  {
   "cell_type": "markdown",
   "metadata": {},
   "source": [
    "<h2>Now let's begin with the Function defination and execute it from file</h2>"
   ]
  },
  {
   "cell_type": "code",
   "execution_count": 33,
   "metadata": {},
   "outputs": [
    {
     "name": "stdout",
     "output_type": "stream",
     "text": [
      "['1:27.95,1:21.07,1:30.96,1:23.22,1:27.95,1:28.30\\n']\n",
      "[8795, 8107, 9096, 8322, 8795, 8830]\n",
      "8657.5\n",
      "86.575\n",
      "86.58\n",
      "1:26.58\n"
     ]
    },
    {
     "data": {
      "text/plain": [
       "'1:26.58'"
      ]
     },
     "execution_count": 33,
     "metadata": {},
     "output_type": "execute_result"
    }
   ],
   "source": [
    "import statistics\n",
    "\n",
    "def get_swimmer_data(fn: str)-> tuple:\n",
    "    \"\"\"GIven the name of a swimmer's file, extract all the requird data, then return it to the caller as tuple\"\"\"\n",
    "    FOLDER=\"assets\\\\swimdata\"\n",
    "    data = \"\"\n",
    "    with open(FOLDER+'\\\\'+fn) as df:\n",
    "        data = df.readlines()\n",
    "        print(data)\n",
    "\n",
    "    #Break the line apart by \",\" to produce a list of items\n",
    "    times = data[0].strip().split(\",\")\n",
    "\n",
    "    converts =[]\n",
    "    for data in times:\n",
    "        minutes, rest = data.split(':')\n",
    "        seconds, hundredths = rest.split('.')\n",
    "        converted_time = int(minutes)*60*100+int(seconds)*100+int(hundredths)\n",
    "        converts.append(converted_time)\n",
    "\n",
    "    print(converts)\n",
    "    avg= statistics.mean(converts)\n",
    "    print(avg)\n",
    "    #Convert the result into mins:secs.hundreths format\n",
    "    # Divide the avg by 100 will give seconds and hundredths\n",
    "    print(avg/100)\n",
    "    rounded_avg = round(avg/100,2)\n",
    "    print(rounded_avg)\n",
    "    min_sec,hundredths = str(rounded_avg).split('.')\n",
    "    min = int(min_sec)//60\n",
    "    sec =  int(min_sec) - min*60\n",
    "    result = str(min)+':'+str(sec)+'.'+hundredths\n",
    "\n",
    "    print(result)\n",
    "    return(result)\n",
    "    \n",
    "get_swimmer_data(\"Darius-13-100m-Fly.txt\")"
   ]
  },
  {
   "cell_type": "markdown",
   "metadata": {},
   "source": [
    "<h3><b>To refer the function from another file</b></h3>"
   ]
  },
  {
   "cell_type": "code",
   "execution_count": 34,
   "metadata": {},
   "outputs": [],
   "source": [
    "import sys\n",
    "sys.path.append('../Methods')"
   ]
  },
  {
   "cell_type": "markdown",
   "metadata": {},
   "source": [
    "<h2>Let's call the method from the external file</h2>"
   ]
  },
  {
   "cell_type": "code",
   "execution_count": 35,
   "metadata": {},
   "outputs": [
    {
     "name": "stdout",
     "output_type": "stream",
     "text": [
      "['1:27.95,1:21.07,1:30.96,1:23.22,1:27.95,1:28.30\\n']\n",
      "[8795, 8107, 9096, 8322, 8795, 8830]\n",
      "8657.5\n",
      "86.575\n",
      "86.58\n",
      "1:26.58\n"
     ]
    },
    {
     "data": {
      "text/plain": [
       "'1:26.58'"
      ]
     },
     "execution_count": 35,
     "metadata": {},
     "output_type": "execute_result"
    }
   ],
   "source": [
    "from GetSwimData import get_swim_data\n",
    "\n",
    "get_swim_data(\"Darius-13-100m-Fly.txt\")"
   ]
  },
  {
   "cell_type": "markdown",
   "metadata": {},
   "source": [
    "<h3>Let's check the OS details, and remove a system file from the list</h3>"
   ]
  },
  {
   "cell_type": "code",
   "execution_count": 36,
   "metadata": {},
   "outputs": [
    {
     "name": "stdout",
     "output_type": "stream",
     "text": [
      "['Abi-10-100m-Back.txt', 'Abi-10-100m-Breast.txt', 'Abi-10-50m-Back.txt', 'Abi-10-50m-Breast.txt', 'Abi-10-50m-Free.txt', 'Ali-12-100m-Back.txt', 'Ali-12-100m-Free.txt', 'Alison-14-100m-Breast.txt', 'Alison-14-100m-Free.txt', 'Aurora-13-50m-Free.txt', 'Bill-18-100m-Back.txt', 'Bill-18-200m-Back.txt', 'Blake-15-100m-Back.txt', 'Blake-15-100m-Fly.txt', 'Blake-15-100m-Free.txt', 'Calvin-9-50m-Back.txt', 'Calvin-9-50m-Fly.txt', 'Calvin-9-50m-Free.txt', 'Carl-15-100m-Back.txt', 'Chris-17-100m-Back.txt', 'Chris-17-100m-Breast.txt', 'Darius-13-100m-Back.txt', 'Darius-13-100m-Breast.txt', 'Darius-13-100m-Fly.txt', 'Darius-13-200m-IM.txt', 'Dave-17-100m-Free.txt', 'Dave-17-200m-Back.txt', 'Elba-14-100m-Free.txt', 'Emma-13-100m-Breast.txt', 'Emma-13-100m-Free.txt', 'Erika-15-100m-Breast.txt', 'Erika-15-100m-Free.txt', 'Erika-15-200m-Breast.txt', 'Hannah-13-100m-Back.txt', 'Hannah-13-100m-Free.txt', 'Katie-9-100m-Back.txt', 'Katie-9-100m-Breast.txt', 'Katie-9-100m-Free.txt', 'Katie-9-50m-Back.txt', 'Katie-9-50m-Breast.txt', 'Katie-9-50m-Fly.txt', 'Katie-9-50m-Free.txt', 'Lizzie-14-100m-Back.txt', 'Lizzie-14-100m-Free.txt', 'Maria-9-50m-Free.txt', 'Mike-15-100m-Back.txt', 'Mike-15-100m-Fly.txt', 'Mike-15-100m-Free.txt', 'Mike-15-200m-Free.txt', 'Mike-15-200m-IM.txt', 'Owen-15-100m-Free.txt', 'Ruth-13-100m-Back.txt', 'Ruth-13-100m-Free.txt', 'Ruth-13-200m-Back.txt', 'Ruth-13-200m-Free.txt', 'Ruth-13-400m-Free.txt', 'Tasmin-15-100m-Back.txt', 'Tasmin-15-100m-Breast.txt', 'Tasmin-15-100m-Free.txt', 'Tasmin-15-200m-Breast.txt']\n"
     ]
    }
   ],
   "source": [
    "import os\n",
    "\n",
    "swim_files = os.listdir(FOLDER)\n",
    "swim_files.remove('.DS_Store')\n",
    "print(swim_files)\n"
   ]
  },
  {
   "cell_type": "markdown",
   "metadata": {},
   "source": [
    "<h3>Now take each file and process the timings</h3>"
   ]
  },
  {
   "cell_type": "code",
   "execution_count": 37,
   "metadata": {},
   "outputs": [
    {
     "name": "stdout",
     "output_type": "stream",
     "text": [
      "Processing Abi-10-100m-Back.txt...\n",
      "['1:31.59,1:26.55,1:28.75,1:39.79,1:32.37\\n']\n",
      "[9159, 8655, 8875, 9979, 9237]\n",
      "9181\n",
      "91.81\n",
      "91.81\n",
      "1:31.81\n",
      "Processing Abi-10-100m-Breast.txt...\n",
      "['1:42.97,1:43.31,1:43.50,1:40.34\\n']\n",
      "[10297, 10331, 10350, 10034]\n",
      "10253\n",
      "102.53\n",
      "102.53\n",
      "1:42.53\n",
      "Processing Abi-10-50m-Back.txt...\n",
      "['41.50,43.58,42.35,43.35,39.85,40.53,42.14,39.18,40.89,40.89\\n']\n"
     ]
    },
    {
     "ename": "ValueError",
     "evalue": "not enough values to unpack (expected 2, got 1)",
     "output_type": "error",
     "traceback": [
      "\u001b[1;31m---------------------------------------------------------------------------\u001b[0m",
      "\u001b[1;31mValueError\u001b[0m                                Traceback (most recent call last)",
      "Cell \u001b[1;32mIn[37], line 3\u001b[0m\n\u001b[0;32m      1\u001b[0m \u001b[39mfor\u001b[39;00m files \u001b[39min\u001b[39;00m swim_files:\n\u001b[0;32m      2\u001b[0m     \u001b[39mprint\u001b[39m(\u001b[39m'\u001b[39m\u001b[39mProcessing \u001b[39m\u001b[39m'\u001b[39m \u001b[39m+\u001b[39m files \u001b[39m+\u001b[39m \u001b[39m'\u001b[39m\u001b[39m...\u001b[39m\u001b[39m'\u001b[39m)\n\u001b[1;32m----> 3\u001b[0m     get_swim_data(files)\n",
      "File \u001b[1;32mc:\\Users\\namaurya\\source\\repos\\PyLearn\\src\\Workbook\\../Methods\\GetSwimData.py:16\u001b[0m, in \u001b[0;36mget_swim_data\u001b[1;34m(fn)\u001b[0m\n\u001b[0;32m     14\u001b[0m converts \u001b[39m=\u001b[39m[]\n\u001b[0;32m     15\u001b[0m \u001b[39mfor\u001b[39;00m data \u001b[39min\u001b[39;00m times:\n\u001b[1;32m---> 16\u001b[0m     minutes, rest \u001b[39m=\u001b[39m data\u001b[39m.\u001b[39msplit(\u001b[39m'\u001b[39m\u001b[39m:\u001b[39m\u001b[39m'\u001b[39m)\n\u001b[0;32m     17\u001b[0m     seconds, hundredths \u001b[39m=\u001b[39m rest\u001b[39m.\u001b[39msplit(\u001b[39m'\u001b[39m\u001b[39m.\u001b[39m\u001b[39m'\u001b[39m)\n\u001b[0;32m     18\u001b[0m     converted_time \u001b[39m=\u001b[39m \u001b[39mint\u001b[39m(minutes)\u001b[39m*\u001b[39m\u001b[39m60\u001b[39m\u001b[39m*\u001b[39m\u001b[39m100\u001b[39m\u001b[39m+\u001b[39m\u001b[39mint\u001b[39m(seconds)\u001b[39m*\u001b[39m\u001b[39m100\u001b[39m\u001b[39m+\u001b[39m\u001b[39mint\u001b[39m(hundredths)\n",
      "\u001b[1;31mValueError\u001b[0m: not enough values to unpack (expected 2, got 1)"
     ]
    }
   ],
   "source": [
    "for files in swim_files:\n",
    "    print('Processing ' + files + '...')\n",
    "    get_swim_data(files)"
   ]
  },
  {
   "cell_type": "markdown",
   "metadata": {},
   "source": [
    "<h3>We got the error because file name <i>\"Abi-10-50m-Back.txt\"<i/> have a swim time without minute component</h3>\n",
    "<p>E.g. Instead of <i>min:sec.hundreths</i>, <i>it has sec.hundreths</i></p>\n",
    "<p>So, we need to add logical condition to handle these cases</p>\n",
    "<h5>Added logical condition in separate file <i>GetSwimData_logical.py</i></h5>"
   ]
  },
  {
   "cell_type": "code",
   "execution_count": null,
   "metadata": {},
   "outputs": [],
   "source": [
    "from GetSwimData_Logical import get_swim_data_logical\n",
    "import os\n",
    "\n",
    "swim_files_log = os.listdir(FOLDER)\n",
    "swim_files_log.remove('.DS_Store')\n",
    "print(swim_files_log)\n",
    "for files in swim_files_log:\n",
    "    print('Processing ' + files + '...')\n",
    "    get_swim_data_logical(files)\n"
   ]
  },
  {
   "cell_type": "markdown",
   "metadata": {},
   "source": [
    "<h2>Key Takeaway:</h2>\n",
    "The def keyword defines a new, bespoke function.\n",
    "\n",
    "Triple-quoted strings are often used to add a multi-line comments to code, and are often found at the top of a function’s code block (right after the function signature).\n",
    "\n",
    "When you put code in it’s own file (with a .py extension), you create a module.\n",
    "\n",
    "The import statements lets you reuse a module, e.g., import swimclub.\n",
    "\n",
    "Use a fully qualified name to invoke a function from a module, e.g., swimclub.get_swim_data.\n",
    "\n",
    "The return statement allows a bespoke function to return a result.\n",
    "\n",
    "If a function tries to return more than one result, the collection of returned values are bundled together as a single tuple. This is due to the fact that Python function’s only ever return a single result.\n",
    "\n",
    "A tuple is an immutable sequence data structure. Once a tuple is assigned values, the tuple cannot change.\n",
    "\n",
    "Lists are like tuples, expect for the fact that lists are mutable.\n",
    "\n",
    "The os module (included as part of the PSL) lets your Python code talk to your underlying operating system.\n",
    "\n",
    "Although lists come with a handy sort method, be careful using it as the ordering is applied in-place. If you want to keep any list’s current order, use the sorted BIF instead.\n",
    "\n",
    "Lists come built-in with lots of methods (not just sort), including the useful remove method.\n",
    "\n",
    "The in operator is one of our favorites, and should be one of yours, too. It’s great at searching (aka checking for membership).\n",
    "\n",
    "When you need to make a decision, nothing beats the if else combo.\n",
    "\n",
    "An often overlooked, but truly wonderful, BIF is enumerate. It can be used to number the iterations of any for loop."
   ]
  }
 ],
 "metadata": {
  "kernelspec": {
   "display_name": "Python 3",
   "language": "python",
   "name": "python3"
  },
  "language_info": {
   "codemirror_mode": {
    "name": "ipython",
    "version": 3
   },
   "file_extension": ".py",
   "mimetype": "text/x-python",
   "name": "python",
   "nbconvert_exporter": "python",
   "pygments_lexer": "ipython3",
   "version": "3.10.11"
  },
  "orig_nbformat": 4
 },
 "nbformat": 4,
 "nbformat_minor": 2
}
