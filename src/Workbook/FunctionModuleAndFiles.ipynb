{
 "cells": [
  {
   "cell_type": "markdown",
   "metadata": {},
   "source": [
    "<h1><b>This will contains the basic PYTHON operation</b></h1>"
   ]
  },
  {
   "cell_type": "markdown",
   "metadata": {},
   "source": [
    "<h3><b>TASK #1 </b>Extract the data from File's Name</h3>\n",
    "<ul>\n",
    "<li>Read the filename</li>\n",
    "<li>Break the filename apart by the “-” character</li>\n",
    "<li>Put the swimmer’s name, age group, distance , and stroke into variables (so they can be used later)</li>\n",
    "</ul>"
   ]
  },
  {
   "cell_type": "code",
   "execution_count": 26,
   "metadata": {},
   "outputs": [
    {
     "name": "stdout",
     "output_type": "stream",
     "text": [
      "Darius\n",
      "13\n",
      "100m\n",
      "Fly\n"
     ]
    }
   ],
   "source": [
    "fn = \"Darius-13-100m-Fly.txt\"\n",
    "res = fn.removesuffix(\".txt\").split(\"-\")\n",
    "print(res[0])\n",
    "print(res[1])\n",
    "print(res[2])\n",
    "print(res[3])"
   ]
  },
  {
   "cell_type": "markdown",
   "metadata": {},
   "source": [
    "<h3>How to make it more readable</h3>\n",
    "<em>We can do multiple assignment at once aka <b>Unpacking</b></em>"
   ]
  },
  {
   "cell_type": "code",
   "execution_count": 27,
   "metadata": {},
   "outputs": [
    {
     "name": "stdout",
     "output_type": "stream",
     "text": [
      "Darius 13 100m Fly\n"
     ]
    }
   ],
   "source": [
    "swimmer,age,category,type = fn.removesuffix(\".txt\").split(\"-\")\n",
    "\n",
    "print(swimmer,age,category,type)"
   ]
  },
  {
   "cell_type": "markdown",
   "metadata": {},
   "source": [
    "<h3><b>TASK #2</b> Process the data in the file</h3>\n",
    "\n",
    "<ul>\n",
    "<li>Read the lines from the file</li>\n",
    "<li>Ignore the second line</li>\n",
    "<li>Break the first line apart by “,” to produce a list of times</li>\n",
    "<li>Take each of the times and convert them to a number from the “mins:secs.hundredths” format</li>\n",
    "<li>Display the variables from Task #1, then the list of times and the calculated average from Task #2</li>\n",
    "</ul>"
   ]
  },
  {
   "cell_type": "code",
   "execution_count": 28,
   "metadata": {},
   "outputs": [
    {
     "name": "stdout",
     "output_type": "stream",
     "text": [
      "['1:27.95,1:21.07,1:30.96,1:23.22,1:27.95,1:28.30\\n']\n"
     ]
    }
   ],
   "source": [
    "#Read the lines from the file\n",
    "#Ignore the second line\n",
    "\n",
    "#readlines() returns a list of lines from the file with a newline character at the end of each line.\n",
    "FN = \"Darius-13-100m-Fly.txt\"\n",
    "FOLDER=\"assets\\\\swimdata\"\n",
    "data = \"\"\n",
    "with open(FOLDER+'\\\\'+FN) as df:\n",
    "    data = df.readlines()\n",
    "    print(data)"
   ]
  },
  {
   "cell_type": "code",
   "execution_count": 29,
   "metadata": {},
   "outputs": [
    {
     "name": "stdout",
     "output_type": "stream",
     "text": [
      "['1:27.95', '1:21.07', '1:30.96', '1:23.22', '1:27.95', '1:28.30']\n"
     ]
    }
   ],
   "source": [
    "#Break the line apart by \",\" to produce a list of items\n",
    "times = data[0].strip().split(\",\")\n",
    "print(times)"
   ]
  },
  {
   "cell_type": "code",
   "execution_count": 30,
   "metadata": {},
   "outputs": [
    {
     "name": "stdout",
     "output_type": "stream",
     "text": [
      "[8795, 8107, 9096, 8322, 8795, 8830]\n"
     ]
    }
   ],
   "source": [
    "#Take each of the times and convert them to a number from the “mins:secs.hundredths” format\n",
    "converts =[]\n",
    "for data in times:\n",
    "    minutes, rest = data.split(':')\n",
    "    seconds, hundredths = rest.split('.')\n",
    "    converted_time = int(minutes)*60*100+int(seconds)*100+int(hundredths)\n",
    "    converts.append(converted_time)\n",
    "\n",
    "print(converts)"
   ]
  },
  {
   "cell_type": "code",
   "execution_count": 31,
   "metadata": {},
   "outputs": [
    {
     "name": "stdout",
     "output_type": "stream",
     "text": [
      "8657.5\n"
     ]
    }
   ],
   "source": [
    "#Calculate the average\n",
    "import statistics\n",
    "avg= statistics.mean(converts)\n",
    "print(avg)"
   ]
  },
  {
   "cell_type": "code",
   "execution_count": 32,
   "metadata": {},
   "outputs": [
    {
     "name": "stdout",
     "output_type": "stream",
     "text": [
      "86.575\n",
      "86.58\n",
      "1:26.58\n"
     ]
    }
   ],
   "source": [
    "#Convert the result into mins:secs.hundreths format\n",
    "# Divide the avg by 100 will give seconds and hundredths\n",
    "print(avg/100)\n",
    "rounded_avg = round(avg/100,2)\n",
    "print(rounded_avg)\n",
    "min_sec,hundredths = str(rounded_avg).split('.')\n",
    "min = int(min_sec)//60\n",
    "sec =  int(min_sec) - min*60\n",
    "print(str(min)+':'+str(sec)+'.'+hundredths)\n"
   ]
  },
  {
   "cell_type": "markdown",
   "metadata": {},
   "source": [
    "<h2>Now let's begin with the Function defination and execute it from file</h2>"
   ]
  },
  {
   "cell_type": "code",
   "execution_count": 33,
   "metadata": {},
   "outputs": [
    {
     "name": "stdout",
     "output_type": "stream",
     "text": [
      "['1:27.95,1:21.07,1:30.96,1:23.22,1:27.95,1:28.30\\n']\n",
      "[8795, 8107, 9096, 8322, 8795, 8830]\n",
      "8657.5\n",
      "86.575\n",
      "86.58\n",
      "1:26.58\n"
     ]
    },
    {
     "data": {
      "text/plain": [
       "'1:26.58'"
      ]
     },
     "execution_count": 33,
     "metadata": {},
     "output_type": "execute_result"
    }
   ],
   "source": [
    "import statistics\n",
    "\n",
    "def get_swimmer_data(fn: str)-> tuple:\n",
    "    \"\"\"GIven the name of a swimmer's file, extract all the requird data, then return it to the caller as tuple\"\"\"\n",
    "    FOLDER=\"assets\\\\swimdata\"\n",
    "    data = \"\"\n",
    "    with open(FOLDER+'\\\\'+fn) as df:\n",
    "        data = df.readlines()\n",
    "        print(data)\n",
    "\n",
    "    #Break the line apart by \",\" to produce a list of items\n",
    "    times = data[0].strip().split(\",\")\n",
    "\n",
    "    converts =[]\n",
    "    for data in times:\n",
    "        minutes, rest = data.split(':')\n",
    "        seconds, hundredths = rest.split('.')\n",
    "        converted_time = int(minutes)*60*100+int(seconds)*100+int(hundredths)\n",
    "        converts.append(converted_time)\n",
    "\n",
    "    print(converts)\n",
    "    avg= statistics.mean(converts)\n",
    "    print(avg)\n",
    "    #Convert the result into mins:secs.hundreths format\n",
    "    # Divide the avg by 100 will give seconds and hundredths\n",
    "    print(avg/100)\n",
    "    rounded_avg = round(avg/100,2)\n",
    "    print(rounded_avg)\n",
    "    min_sec,hundredths = str(rounded_avg).split('.')\n",
    "    min = int(min_sec)//60\n",
    "    sec =  int(min_sec) - min*60\n",
    "    result = str(min)+':'+str(sec)+'.'+hundredths\n",
    "\n",
    "    print(result)\n",
    "    return(result)\n",
    "    \n",
    "get_swimmer_data(\"Darius-13-100m-Fly.txt\")"
   ]
  },
  {
   "cell_type": "markdown",
   "metadata": {},
   "source": [
    "<h3><b>To refer the function from another file</b></h3>"
   ]
  },
  {
   "cell_type": "code",
   "execution_count": 34,
   "metadata": {},
   "outputs": [],
   "source": [
    "import sys\n",
    "sys.path.append('../Methods')"
   ]
  },
  {
   "cell_type": "markdown",
   "metadata": {},
   "source": [
    "<h2>Let's call the method from the external file</h2>"
   ]
  },
  {
   "cell_type": "code",
   "execution_count": 35,
   "metadata": {},
   "outputs": [
    {
     "name": "stdout",
     "output_type": "stream",
     "text": [
      "['1:27.95,1:21.07,1:30.96,1:23.22,1:27.95,1:28.30\\n']\n",
      "[8795, 8107, 9096, 8322, 8795, 8830]\n",
      "8657.5\n",
      "86.575\n",
      "86.58\n",
      "1:26.58\n"
     ]
    },
    {
     "data": {
      "text/plain": [
       "'1:26.58'"
      ]
     },
     "execution_count": 35,
     "metadata": {},
     "output_type": "execute_result"
    }
   ],
   "source": [
    "from GetSwimData import get_swim_data\n",
    "\n",
    "get_swim_data(\"Darius-13-100m-Fly.txt\")"
   ]
  },
  {
   "cell_type": "markdown",
   "metadata": {},
   "source": [
    "<h3>Let's check the OS details, and remove a system file from the list</h3>"
   ]
  },
  {
   "cell_type": "code",
   "execution_count": 36,
   "metadata": {},
   "outputs": [
    {
     "name": "stdout",
     "output_type": "stream",
     "text": [
      "['Abi-10-100m-Back.txt', 'Abi-10-100m-Breast.txt', 'Abi-10-50m-Back.txt', 'Abi-10-50m-Breast.txt', 'Abi-10-50m-Free.txt', 'Ali-12-100m-Back.txt', 'Ali-12-100m-Free.txt', 'Alison-14-100m-Breast.txt', 'Alison-14-100m-Free.txt', 'Aurora-13-50m-Free.txt', 'Bill-18-100m-Back.txt', 'Bill-18-200m-Back.txt', 'Blake-15-100m-Back.txt', 'Blake-15-100m-Fly.txt', 'Blake-15-100m-Free.txt', 'Calvin-9-50m-Back.txt', 'Calvin-9-50m-Fly.txt', 'Calvin-9-50m-Free.txt', 'Carl-15-100m-Back.txt', 'Chris-17-100m-Back.txt', 'Chris-17-100m-Breast.txt', 'Darius-13-100m-Back.txt', 'Darius-13-100m-Breast.txt', 'Darius-13-100m-Fly.txt', 'Darius-13-200m-IM.txt', 'Dave-17-100m-Free.txt', 'Dave-17-200m-Back.txt', 'Elba-14-100m-Free.txt', 'Emma-13-100m-Breast.txt', 'Emma-13-100m-Free.txt', 'Erika-15-100m-Breast.txt', 'Erika-15-100m-Free.txt', 'Erika-15-200m-Breast.txt', 'Hannah-13-100m-Back.txt', 'Hannah-13-100m-Free.txt', 'Katie-9-100m-Back.txt', 'Katie-9-100m-Breast.txt', 'Katie-9-100m-Free.txt', 'Katie-9-50m-Back.txt', 'Katie-9-50m-Breast.txt', 'Katie-9-50m-Fly.txt', 'Katie-9-50m-Free.txt', 'Lizzie-14-100m-Back.txt', 'Lizzie-14-100m-Free.txt', 'Maria-9-50m-Free.txt', 'Mike-15-100m-Back.txt', 'Mike-15-100m-Fly.txt', 'Mike-15-100m-Free.txt', 'Mike-15-200m-Free.txt', 'Mike-15-200m-IM.txt', 'Owen-15-100m-Free.txt', 'Ruth-13-100m-Back.txt', 'Ruth-13-100m-Free.txt', 'Ruth-13-200m-Back.txt', 'Ruth-13-200m-Free.txt', 'Ruth-13-400m-Free.txt', 'Tasmin-15-100m-Back.txt', 'Tasmin-15-100m-Breast.txt', 'Tasmin-15-100m-Free.txt', 'Tasmin-15-200m-Breast.txt']\n"
     ]
    }
   ],
   "source": [
    "import os\n",
    "\n",
    "swim_files = os.listdir(FOLDER)\n",
    "swim_files.remove('.DS_Store')\n",
    "print(swim_files)\n"
   ]
  },
  {
   "cell_type": "markdown",
   "metadata": {},
   "source": [
    "<h3>Now take each file and process the timings</h3>"
   ]
  },
  {
   "cell_type": "code",
   "execution_count": 37,
   "metadata": {},
   "outputs": [
    {
     "name": "stdout",
     "output_type": "stream",
     "text": [
      "Processing Abi-10-100m-Back.txt...\n",
      "['1:31.59,1:26.55,1:28.75,1:39.79,1:32.37\\n']\n",
      "[9159, 8655, 8875, 9979, 9237]\n",
      "9181\n",
      "91.81\n",
      "91.81\n",
      "1:31.81\n",
      "Processing Abi-10-100m-Breast.txt...\n",
      "['1:42.97,1:43.31,1:43.50,1:40.34\\n']\n",
      "[10297, 10331, 10350, 10034]\n",
      "10253\n",
      "102.53\n",
      "102.53\n",
      "1:42.53\n",
      "Processing Abi-10-50m-Back.txt...\n",
      "['41.50,43.58,42.35,43.35,39.85,40.53,42.14,39.18,40.89,40.89\\n']\n"
     ]
    },
    {
     "ename": "ValueError",
     "evalue": "not enough values to unpack (expected 2, got 1)",
     "output_type": "error",
     "traceback": [
      "\u001b[1;31m---------------------------------------------------------------------------\u001b[0m",
      "\u001b[1;31mValueError\u001b[0m                                Traceback (most recent call last)",
      "Cell \u001b[1;32mIn[37], line 3\u001b[0m\n\u001b[0;32m      1\u001b[0m \u001b[39mfor\u001b[39;00m files \u001b[39min\u001b[39;00m swim_files:\n\u001b[0;32m      2\u001b[0m     \u001b[39mprint\u001b[39m(\u001b[39m'\u001b[39m\u001b[39mProcessing \u001b[39m\u001b[39m'\u001b[39m \u001b[39m+\u001b[39m files \u001b[39m+\u001b[39m \u001b[39m'\u001b[39m\u001b[39m...\u001b[39m\u001b[39m'\u001b[39m)\n\u001b[1;32m----> 3\u001b[0m     get_swim_data(files)\n",
      "File \u001b[1;32mc:\\Users\\namaurya\\source\\repos\\PyLearn\\src\\Workbook\\../Methods\\GetSwimData.py:16\u001b[0m, in \u001b[0;36mget_swim_data\u001b[1;34m(fn)\u001b[0m\n\u001b[0;32m     14\u001b[0m converts \u001b[39m=\u001b[39m[]\n\u001b[0;32m     15\u001b[0m \u001b[39mfor\u001b[39;00m data \u001b[39min\u001b[39;00m times:\n\u001b[1;32m---> 16\u001b[0m     minutes, rest \u001b[39m=\u001b[39m data\u001b[39m.\u001b[39msplit(\u001b[39m'\u001b[39m\u001b[39m:\u001b[39m\u001b[39m'\u001b[39m)\n\u001b[0;32m     17\u001b[0m     seconds, hundredths \u001b[39m=\u001b[39m rest\u001b[39m.\u001b[39msplit(\u001b[39m'\u001b[39m\u001b[39m.\u001b[39m\u001b[39m'\u001b[39m)\n\u001b[0;32m     18\u001b[0m     converted_time \u001b[39m=\u001b[39m \u001b[39mint\u001b[39m(minutes)\u001b[39m*\u001b[39m\u001b[39m60\u001b[39m\u001b[39m*\u001b[39m\u001b[39m100\u001b[39m\u001b[39m+\u001b[39m\u001b[39mint\u001b[39m(seconds)\u001b[39m*\u001b[39m\u001b[39m100\u001b[39m\u001b[39m+\u001b[39m\u001b[39mint\u001b[39m(hundredths)\n",
      "\u001b[1;31mValueError\u001b[0m: not enough values to unpack (expected 2, got 1)"
     ]
    }
   ],
   "source": [
    "for files in swim_files:\n",
    "    print('Processing ' + files + '...')\n",
    "    get_swim_data(files)"
   ]
  },
  {
   "cell_type": "markdown",
   "metadata": {},
   "source": [
    "<h3>We got the error because file name <i>\"Abi-10-50m-Back.txt\"<i/> have a swim time without minute component</h3>\n",
    "<p>E.g. Instead of <i>min:sec.hundreths</i>, <i>it has sec.hundreths</i></p>\n",
    "<p>So, we need to add logical condition to handle these cases</p>\n",
    "<h5>Added logical condition in separate file <i>GetSwimData_logical.py</i></h5>"
   ]
  },
  {
   "cell_type": "code",
   "execution_count": null,
   "metadata": {},
   "outputs": [
    {
     "name": "stdout",
     "output_type": "stream",
     "text": [
      "['Abi-10-100m-Back.txt', 'Abi-10-100m-Breast.txt', 'Abi-10-50m-Back.txt', 'Abi-10-50m-Breast.txt', 'Abi-10-50m-Free.txt', 'Ali-12-100m-Back.txt', 'Ali-12-100m-Free.txt', 'Alison-14-100m-Breast.txt', 'Alison-14-100m-Free.txt', 'Aurora-13-50m-Free.txt', 'Bill-18-100m-Back.txt', 'Bill-18-200m-Back.txt', 'Blake-15-100m-Back.txt', 'Blake-15-100m-Fly.txt', 'Blake-15-100m-Free.txt', 'Calvin-9-50m-Back.txt', 'Calvin-9-50m-Fly.txt', 'Calvin-9-50m-Free.txt', 'Carl-15-100m-Back.txt', 'Chris-17-100m-Back.txt', 'Chris-17-100m-Breast.txt', 'Darius-13-100m-Back.txt', 'Darius-13-100m-Breast.txt', 'Darius-13-100m-Fly.txt', 'Darius-13-200m-IM.txt', 'Dave-17-100m-Free.txt', 'Dave-17-200m-Back.txt', 'Elba-14-100m-Free.txt', 'Emma-13-100m-Breast.txt', 'Emma-13-100m-Free.txt', 'Erika-15-100m-Breast.txt', 'Erika-15-100m-Free.txt', 'Erika-15-200m-Breast.txt', 'Hannah-13-100m-Back.txt', 'Hannah-13-100m-Free.txt', 'Katie-9-100m-Back.txt', 'Katie-9-100m-Breast.txt', 'Katie-9-100m-Free.txt', 'Katie-9-50m-Back.txt', 'Katie-9-50m-Breast.txt', 'Katie-9-50m-Fly.txt', 'Katie-9-50m-Free.txt', 'Lizzie-14-100m-Back.txt', 'Lizzie-14-100m-Free.txt', 'Maria-9-50m-Free.txt', 'Mike-15-100m-Back.txt', 'Mike-15-100m-Fly.txt', 'Mike-15-100m-Free.txt', 'Mike-15-200m-Free.txt', 'Mike-15-200m-IM.txt', 'Owen-15-100m-Free.txt', 'Ruth-13-100m-Back.txt', 'Ruth-13-100m-Free.txt', 'Ruth-13-200m-Back.txt', 'Ruth-13-200m-Free.txt', 'Ruth-13-400m-Free.txt', 'Tasmin-15-100m-Back.txt', 'Tasmin-15-100m-Breast.txt', 'Tasmin-15-100m-Free.txt', 'Tasmin-15-200m-Breast.txt']\n",
      "Processing Abi-10-100m-Back.txt...\n",
      "['1:31.59,1:26.55,1:28.75,1:39.79,1:32.37\\n']\n",
      "[9159, 8655, 8875, 9979, 9237]\n",
      "9181\n",
      "91.81\n",
      "91.81\n",
      "1:31.81\n",
      "Processing Abi-10-100m-Breast.txt...\n",
      "['1:42.97,1:43.31,1:43.50,1:40.34\\n']\n",
      "[10297, 10331, 10350, 10034]\n",
      "10253\n",
      "102.53\n",
      "102.53\n",
      "1:42.53\n",
      "Processing Abi-10-50m-Back.txt...\n",
      "['41.50,43.58,42.35,43.35,39.85,40.53,42.14,39.18,40.89,40.89\\n']\n",
      "[4150, 4358, 4235, 4335, 3985, 4053, 4214, 3918, 4089, 4089]\n",
      "4142.6\n",
      "41.426\n",
      "41.43\n",
      "0:41.43\n",
      "Processing Abi-10-50m-Breast.txt...\n",
      "['48.08,53.17,45.76,49.28,52.85,46.19,47.76,48.83,45.71,47.76\\n']\n",
      "[4808, 5317, 4576, 4928, 5285, 4619, 4776, 4883, 4571, 4776]\n",
      "4853.9\n",
      "48.538999999999994\n",
      "48.54\n",
      "0:48.54\n",
      "Processing Abi-10-50m-Free.txt...\n",
      "['39.07,37.66,36.13,39.42\\n']\n",
      "[3907, 3766, 3613, 3942]\n",
      "3807\n",
      "38.07\n",
      "38.07\n",
      "0:38.07\n",
      "Processing Ali-12-100m-Back.txt...\n",
      "['1:36.54,1:39.10,1:39.45,1:42.87\\n']\n",
      "[9654, 9910, 9945, 10287]\n",
      "9949\n",
      "99.49\n",
      "99.49\n",
      "1:39.49\n",
      "Processing Ali-12-100m-Free.txt...\n",
      "['1:27.31,1:27.00,1:27.46,1:22.50,1:20.39,1:26.04,1:20.22\\n']\n",
      "[8731, 8700, 8746, 8250, 8039, 8604, 8022]\n",
      "8441.714285714286\n",
      "84.41714285714286\n",
      "84.42\n",
      "1:24.42\n",
      "Processing Alison-14-100m-Breast.txt...\n",
      "['1:34.71,1:37.87,1:35.15,1:37.20,1:36.29,1:36.00,1:35.63,1:35.42,1:42.01\\n']\n",
      "[9471, 9787, 9515, 9720, 9629, 9600, 9563, 9542, 10201]\n",
      "9669.777777777777\n",
      "96.69777777777777\n",
      "96.7\n",
      "1:36.7\n",
      "Processing Alison-14-100m-Free.txt...\n",
      "['1:13.86,1:12.00,1:14.69,1:10.01,1:12.24,1:11.00,1:11.20,1:12.28,1:15.46,1:16.03\\n']\n",
      "[7386, 7200, 7469, 7001, 7224, 7100, 7120, 7228, 7546, 7603]\n",
      "7287.7\n",
      "72.877\n",
      "72.88\n",
      "1:12.88\n",
      "Processing Aurora-13-50m-Free.txt...\n",
      "['30.05,30.21,28.86,30.65,30.03,29.64,29.82\\n']\n",
      "[3005, 3021, 2886, 3065, 3003, 2964, 2982]\n",
      "2989.4285714285716\n",
      "29.894285714285715\n",
      "29.89\n",
      "0:29.89\n",
      "Processing Bill-18-100m-Back.txt...\n",
      "['1:11.34,1:05.81,1:05.75,1:05.82\\n']\n",
      "[7134, 6581, 6575, 6582]\n",
      "6718\n",
      "67.18\n",
      "67.18\n",
      "1:7.18\n",
      "Processing Bill-18-200m-Back.txt...\n",
      "['2:29.06,2:21.49,2:24.13,2:29.40\\n']\n",
      "[14906, 14149, 14413, 14940]\n",
      "14602\n",
      "146.02\n",
      "146.02\n",
      "2:26.02\n",
      "Processing Blake-15-100m-Back.txt...\n",
      "['1:12.71,1:19.87,1:14.94,1:11.53,1:14.94\\n']\n",
      "[7271, 7987, 7494, 7153, 7494]\n",
      "7479.8\n",
      "74.798\n",
      "74.8\n",
      "1:14.8\n",
      "Processing Blake-15-100m-Fly.txt...\n",
      "['1:11.49,1:10.16,1:12.59,1:11.63,1:09.43\\n']\n",
      "[7149, 7016, 7259, 7163, 6943]\n",
      "7106\n",
      "71.06\n",
      "71.06\n",
      "1:11.06\n",
      "Processing Blake-15-100m-Free.txt...\n",
      "['1:02.13,1:03.25,1:04.16,1:03.17,1:04.84,1:03.88,1:04.87\\n']\n",
      "[6213, 6325, 6416, 6317, 6484, 6388, 6487]\n",
      "6375.714285714285\n",
      "63.75714285714285\n",
      "63.76\n",
      "1:3.76\n",
      "Processing Calvin-9-50m-Back.txt...\n",
      "['38.79,39.03,41.29,39.66,41.13,38.57,39.40,41.06,40.37,43.05,37.85\\n']\n",
      "[3879, 3903, 4129, 3966, 4113, 3857, 3940, 4106, 4037, 4305, 3785]\n",
      "4001.818181818182\n",
      "40.01818181818182\n",
      "40.02\n",
      "0:40.02\n",
      "Processing Calvin-9-50m-Fly.txt...\n",
      "['39.47,37.30,41.90,42.85,39.90,38.66,38.84,37.65,39.68,37.18,43.61\\n']\n",
      "[3947, 3730, 4190, 4285, 3990, 3866, 3884, 3765, 3968, 3718, 4361]\n",
      "3973.090909090909\n",
      "39.73090909090909\n",
      "39.73\n",
      "0:39.73\n",
      "Processing Calvin-9-50m-Free.txt...\n",
      "['35.78,36.19,36.89,34.29,34.18,35.94\\n']\n",
      "[3578, 3619, 3689, 3429, 3418, 3594]\n",
      "3554.5\n",
      "35.545\n",
      "35.55\n",
      "0:35.55\n",
      "Processing Carl-15-100m-Back.txt...\n",
      "['1:29.78,1:28.38,1:25.03,1:25.66\\n']\n",
      "[8978, 8838, 8503, 8566]\n",
      "8721.25\n",
      "87.2125\n",
      "87.21\n",
      "1:27.21\n",
      "Processing Chris-17-100m-Back.txt...\n",
      "['1:21.76,1:23.32,1:24.09,1:21.51\\n']\n",
      "[8176, 8332, 8409, 8151]\n",
      "8267\n",
      "82.67\n",
      "82.67\n",
      "1:22.67\n",
      "Processing Chris-17-100m-Breast.txt...\n",
      "['1:28.86,1:29.90,1:28.12,1:28.67\\n']\n",
      "[8886, 8990, 8812, 8867]\n",
      "8888.75\n",
      "88.8875\n",
      "88.89\n",
      "1:28.89\n",
      "Processing Darius-13-100m-Back.txt...\n",
      "['1:22.57,1:29.64,1:20.39,1:23.83\\n']\n",
      "[8257, 8964, 8039, 8383]\n",
      "8410.75\n",
      "84.1075\n",
      "84.11\n",
      "1:24.11\n",
      "Processing Darius-13-100m-Breast.txt...\n",
      "['1:30.24,1:33.18,1:32.73,1:33.05,1:30.81,1:31.74,1:31.53,1:33.05\\n']\n",
      "[9024, 9318, 9273, 9305, 9081, 9174, 9153, 9305]\n",
      "9204.125\n",
      "92.04125\n",
      "92.04\n",
      "1:32.04\n",
      "Processing Darius-13-100m-Fly.txt...\n",
      "['1:27.95,1:21.07,1:30.96,1:23.22,1:27.95,1:28.30\\n']\n",
      "[8795, 8107, 9096, 8322, 8795, 8830]\n",
      "8657.5\n",
      "86.575\n",
      "86.58\n",
      "1:26.58\n",
      "Processing Darius-13-200m-IM.txt...\n",
      "['3:03.84,3:04.27,3:01.49,3:04.27,2:52.44\\n']\n",
      "[18384, 18427, 18149, 18427, 17244]\n",
      "18126.2\n",
      "181.262\n",
      "181.26\n",
      "3:1.26\n",
      "Processing Dave-17-100m-Free.txt...\n",
      "['59.21,59.27,58.67,59.72,59.17\\n']\n",
      "[5921, 5927, 5867, 5972, 5917]\n",
      "5920.8\n",
      "59.208\n",
      "59.21\n",
      "0:59.21\n",
      "Processing Dave-17-200m-Back.txt...\n",
      "['2:35.46,2:28.30,2:35.35,2:28.84\\n']\n",
      "[15546, 14830, 15535, 14884]\n",
      "15198.75\n",
      "151.9875\n",
      "151.99\n",
      "2:31.99\n",
      "Processing Elba-14-100m-Free.txt...\n",
      "['1:06.01,1:06.93,1:05.34,1:06.10\\n']\n",
      "[6601, 6693, 6534, 6610]\n",
      "6609.5\n",
      "66.095\n",
      "66.09\n",
      "1:6.09\n",
      "Processing Emma-13-100m-Breast.txt...\n",
      "['2:01.15,1:57.86,1:59.38,1:57.94,1:56.97\\n']\n",
      "[12115, 11786, 11938, 11794, 11697]\n",
      "11866\n",
      "118.66\n",
      "118.66\n",
      "1:58.66\n",
      "Processing Emma-13-100m-Free.txt...\n",
      "['1:32.21,1:33.68,1:34.10,1:28.57\\n']\n",
      "[9221, 9368, 9410, 8857]\n",
      "9214\n",
      "92.14\n",
      "92.14\n",
      "1:32.14\n",
      "Processing Erika-15-100m-Breast.txt...\n",
      "['1:36.72,1:34.78,1:34.05,1:32.78,1:33.51,1:33.29,1:36.47,1:31.82\\n']\n",
      "[9672, 9478, 9405, 9278, 9351, 9329, 9647, 9182]\n",
      "9417.75\n",
      "94.1775\n",
      "94.18\n",
      "1:34.18\n",
      "Processing Erika-15-100m-Free.txt...\n",
      "['1:19.04,1:15.88,1:18.62,1:21.74\\n']\n",
      "[7904, 7588, 7862, 8174]\n",
      "7882\n",
      "78.82\n",
      "78.82\n",
      "1:18.82\n",
      "Processing Erika-15-200m-Breast.txt...\n",
      "['3:27.51,3:34.70,3:27.15,3:28.45,3:34.79,3:30.21,3:33.74\\n']\n",
      "[20751, 21470, 20715, 20845, 21479, 21021, 21374]\n",
      "21093.571428571428\n",
      "210.93571428571428\n",
      "210.94\n",
      "3:30.94\n",
      "Processing Hannah-13-100m-Back.txt...\n",
      "['1:35.75,1:32.78,1:34.01,1:32.57\\n']\n",
      "[9575, 9278, 9401, 9257]\n",
      "9377.75\n",
      "93.7775\n",
      "93.78\n",
      "1:33.78\n",
      "Processing Hannah-13-100m-Free.txt...\n",
      "['1:21.43,1:21.40,1:21.62,1:25.38\\n']\n",
      "[8143, 8140, 8162, 8538]\n",
      "8245.75\n",
      "82.4575\n",
      "82.46\n",
      "1:22.46\n",
      "Processing Katie-9-100m-Back.txt...\n",
      "['1:33.36,1:31.52,1:28.10,1:33.37,1:32.89,1:33.38,1:32.03,1:32.71\\n']\n",
      "[9336, 9152, 8810, 9337, 9289, 9338, 9203, 9271]\n",
      "9217\n",
      "92.17\n",
      "92.17\n",
      "1:32.17\n",
      "Processing Katie-9-100m-Breast.txt...\n",
      "['1:50.10,1:47.12,1:54.65,1:51.03\\n']\n",
      "[11010, 10712, 11465, 11103]\n",
      "11072.5\n",
      "110.725\n",
      "110.72\n",
      "1:50.72\n",
      "Processing Katie-9-100m-Free.txt...\n",
      "['1:20.81,1:23.61,1:24.80,1:22.05,1:22.58,1:23.94\\n']\n",
      "[8081, 8361, 8480, 8205, 8258, 8394]\n",
      "8296.5\n",
      "82.965\n",
      "82.97\n",
      "1:22.97\n",
      "Processing Katie-9-50m-Back.txt...\n",
      "['43.25,47.35,46.12,45.69\\n']\n",
      "[4325, 4735, 4612, 4569]\n",
      "4560.25\n",
      "45.6025\n",
      "45.6\n",
      "0:45.6\n",
      "Processing Katie-9-50m-Breast.txt...\n",
      "['47.44,52.32,57.16,56.77\\n']\n",
      "[4744, 5232, 5716, 5677]\n",
      "5342.25\n",
      "53.4225\n",
      "53.42\n",
      "0:53.42\n",
      "Processing Katie-9-50m-Fly.txt...\n",
      "['40.11,45.43,50.17,43.58,52.61\\n']\n",
      "[4011, 4543, 5017, 4358, 5261]\n",
      "4638\n",
      "46.38\n",
      "46.38\n",
      "0:46.38\n",
      "Processing Katie-9-50m-Free.txt...\n",
      "['38.94,37.76,41.83,42.81\\n']\n",
      "[3894, 3776, 4183, 4281]\n",
      "4033.5\n",
      "40.335\n",
      "40.34\n",
      "0:40.34\n",
      "Processing Lizzie-14-100m-Back.txt...\n",
      "['1:27.10,1:26.21,1:26.42,1:35.79,1:30.47\\n']\n",
      "[8710, 8621, 8642, 9579, 9047]\n",
      "8919.8\n",
      "89.198\n",
      "89.2\n",
      "1:29.2\n",
      "Processing Lizzie-14-100m-Free.txt...\n",
      "['1:21.08,1:11.23,1:12.46,1:16.73\\n']\n",
      "[8108, 7123, 7246, 7673]\n",
      "7537.5\n",
      "75.375\n",
      "75.38\n",
      "1:15.38\n",
      "Processing Maria-9-50m-Free.txt...\n",
      "['45.75,41.62,40.49,41.00\\n']\n",
      "[4575, 4162, 4049, 4100]\n",
      "4221.5\n",
      "42.215\n",
      "42.22\n",
      "0:42.22\n",
      "Processing Mike-15-100m-Back.txt...\n",
      "['1:19.23,1:13.70,1:13.96,1:15.94\\n']\n",
      "[7923, 7370, 7396, 7594]\n",
      "7570.75\n",
      "75.7075\n",
      "75.71\n",
      "1:15.71\n",
      "Processing Mike-15-100m-Fly.txt...\n",
      "['1:14.55,1:14.15,1:08.38,1:08.74,1:10.89,1:09.47,1:09.52,1:09.86,1:09.83\\n']\n",
      "[7455, 7415, 6838, 6874, 7089, 6947, 6952, 6986, 6983]\n",
      "7059.888888888889\n",
      "70.5988888888889\n",
      "70.6\n",
      "1:10.6\n",
      "Processing Mike-15-100m-Free.txt...\n",
      "['1:02.52,1:02.56,1:06.41,1:07.08,1:02.56,1:03.23,1:04.54\\n']\n",
      "[6252, 6256, 6641, 6708, 6256, 6323, 6454]\n",
      "6412.857142857143\n",
      "64.12857142857143\n",
      "64.13\n",
      "1:4.13\n",
      "Processing Mike-15-200m-Free.txt...\n",
      "['2:19.77,2:41.57,2:27.88,2:37.28\\n']\n",
      "[13977, 16157, 14788, 15728]\n",
      "15162.5\n",
      "151.625\n",
      "151.62\n",
      "2:31.62\n",
      "Processing Mike-15-200m-IM.txt...\n",
      "['2:48.05,2:44.03,2:38.93,2:54.86\\n']\n",
      "[16805, 16403, 15893, 17486]\n",
      "16646.75\n",
      "166.4675\n",
      "166.47\n",
      "2:46.47\n",
      "Processing Owen-15-100m-Free.txt...\n",
      "['1:15.57,1:14.40,1:19.82,1:12.90\\n']\n",
      "[7557, 7440, 7982, 7290]\n",
      "7567.25\n",
      "75.6725\n",
      "75.67\n",
      "1:15.67\n",
      "Processing Ruth-13-100m-Back.txt...\n",
      "['1:17.16,1:16.65,1:23.11,1:14.37,1:18.16,1:18.28,1:16.87,1:17.37,1:20.46\\n']\n",
      "[7716, 7665, 8311, 7437, 7816, 7828, 7687, 7737, 8046]\n",
      "7804.777777777777\n",
      "78.04777777777777\n",
      "78.05\n",
      "1:18.05\n",
      "Processing Ruth-13-100m-Free.txt...\n",
      "['1:07.99,1:11.87,1:11.08,1:09.75\\n']\n",
      "[6799, 7187, 7108, 6975]\n",
      "7017.25\n",
      "70.1725\n",
      "70.17\n",
      "1:10.17\n",
      "Processing Ruth-13-200m-Back.txt...\n",
      "['2:56.68,2:42.63,2:40.90,2:42.88,2:46.09\\n']\n",
      "[17668, 16263, 16090, 16288, 16609]\n",
      "16583.6\n",
      "165.83599999999998\n",
      "165.84\n",
      "2:45.84\n",
      "Processing Ruth-13-200m-Free.txt...\n",
      "['2:22.64,2:28.16,2:28.38,2:25.08,2:25.64,2:33.58\\n']\n",
      "[14264, 14816, 14838, 14508, 14564, 15358]\n",
      "14724.666666666666\n",
      "147.24666666666667\n",
      "147.25\n",
      "2:27.25\n",
      "Processing Ruth-13-400m-Free.txt...\n",
      "['5:11.32,5:04.12,5:20.67,5:08.31,5:04.32,5:06.77,5:13.01\\n']\n",
      "[31132, 30412, 32067, 30831, 30432, 30677, 31301]\n",
      "30978.85714285714\n",
      "309.7885714285714\n",
      "309.79\n",
      "5:9.79\n",
      "Processing Tasmin-15-100m-Back.txt...\n",
      "['1:19.63,1:16.69,1:19.68,1:16.56\\n']\n",
      "[7963, 7669, 7968, 7656]\n",
      "7814\n",
      "78.14\n",
      "78.14\n",
      "1:18.14\n",
      "Processing Tasmin-15-100m-Breast.txt...\n",
      "['1:20.59,1:26.48,1:24.15,1:21.96\\n']\n",
      "[8059, 8648, 8415, 8196]\n",
      "8329.5\n",
      "83.295\n",
      "83.3\n",
      "1:23.3\n",
      "Processing Tasmin-15-100m-Free.txt...\n",
      "['1:08.87,1:07.34,1:11.00,1:08.62,1:10.94,1:09.52,1:12.04,1:10.91\\n']\n",
      "[6887, 6734, 7100, 6862, 7094, 6952, 7204, 7091]\n",
      "6990.5\n",
      "69.905\n",
      "69.91\n",
      "1:9.91\n",
      "Processing Tasmin-15-200m-Breast.txt...\n",
      "['2:54.14,3:03.58,3:02.43,2:57.99\\n']\n",
      "[17414, 18358, 18243, 17799]\n",
      "17953.5\n",
      "179.535\n",
      "179.53\n",
      "2:59.53\n"
     ]
    }
   ],
   "source": [
    "from GetSwimData_Logical import get_swim_data_logical\n",
    "import os\n",
    "\n",
    "swim_files_log = os.listdir(FOLDER)\n",
    "swim_files_log.remove('.DS_Store')\n",
    "print(swim_files_log)\n",
    "for files in swim_files_log:\n",
    "    print('Processing ' + files + '...')\n",
    "    get_swim_data_logical(files)\n"
   ]
  },
  {
   "cell_type": "markdown",
   "metadata": {},
   "source": [
    "<h2>Key Takeaway:</h2>\n",
    "The def keyword defines a new, bespoke function.\n",
    "\n",
    "Triple-quoted strings are often used to add a multi-line comments to code, and are often found at the top of a function’s code block (right after the function signature).\n",
    "\n",
    "When you put code in it’s own file (with a .py extension), you create a module.\n",
    "\n",
    "The import statements lets you reuse a module, e.g., import swimclub.\n",
    "\n",
    "Use a fully qualified name to invoke a function from a module, e.g., swimclub.get_swim_data.\n",
    "\n",
    "The return statement allows a bespoke function to return a result.\n",
    "\n",
    "If a function tries to return more than one result, the collection of returned values are bundled together as a single tuple. This is due to the fact that Python function’s only ever return a single result.\n",
    "\n",
    "A tuple is an immutable sequence data structure. Once a tuple is assigned values, the tuple cannot change.\n",
    "\n",
    "Lists are like tuples, expect for the fact that lists are mutable.\n",
    "\n",
    "The os module (included as part of the PSL) lets your Python code talk to your underlying operating system.\n",
    "\n",
    "Although lists come with a handy sort method, be careful using it as the ordering is applied in-place. If you want to keep any list’s current order, use the sorted BIF instead.\n",
    "\n",
    "Lists come built-in with lots of methods (not just sort), including the useful remove method.\n",
    "\n",
    "The in operator is one of our favorites, and should be one of yours, too. It’s great at searching (aka checking for membership).\n",
    "\n",
    "When you need to make a decision, nothing beats the if else combo.\n",
    "\n",
    "An often overlooked, but truly wonderful, BIF is enumerate. It can be used to number the iterations of any for loop."
   ]
  }
 ],
 "metadata": {
  "kernelspec": {
   "display_name": "Python 3",
   "language": "python",
   "name": "python3"
  },
  "language_info": {
   "codemirror_mode": {
    "name": "ipython",
    "version": 3
   },
   "file_extension": ".py",
   "mimetype": "text/x-python",
   "name": "python",
   "nbconvert_exporter": "python",
   "pygments_lexer": "ipython3",
   "version": "3.10.11"
  },
  "orig_nbformat": 4
 },
 "nbformat": 4,
 "nbformat_minor": 2
}
