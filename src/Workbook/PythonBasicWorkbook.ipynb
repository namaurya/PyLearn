{
 "cells": [
  {
   "cell_type": "markdown",
   "metadata": {},
   "source": [
    "<h1><b>This will contains the basic PYTHON operation</b></h1>"
   ]
  },
  {
   "cell_type": "markdown",
   "metadata": {},
   "source": [
    "<h3><b>TASK #1 </b>Extract the data from File's Name</h3>\n",
    "<ul>\n",
    "<li>Read the filename</li>\n",
    "<li>Break the filename apart by the “-” character</li>\n",
    "<li>Put the swimmer’s name, age group, distance , and stroke into variables (so they can be used later)</li>\n",
    "</ul>"
   ]
  },
  {
   "cell_type": "code",
   "execution_count": 3,
   "metadata": {},
   "outputs": [
    {
     "name": "stdout",
     "output_type": "stream",
     "text": [
      "Darius\n",
      "13\n",
      "100m\n",
      "Fly.txt\n"
     ]
    }
   ],
   "source": [
    "fn = \"Darius-13-100m-Fly.txt\"\n",
    "res = fn.removesuffix(\".txt\").split(\"-\")\n",
    "print(res[0])\n",
    "print(res[1])\n",
    "print(res[2])\n",
    "print(res[3])"
   ]
  },
  {
   "cell_type": "markdown",
   "metadata": {},
   "source": [
    "<h3>How to make it more readable</h3>\n",
    "<em>We can do multiple assignment at once aka <b>Unpacking</b></em>"
   ]
  },
  {
   "cell_type": "code",
   "execution_count": 6,
   "metadata": {},
   "outputs": [
    {
     "name": "stdout",
     "output_type": "stream",
     "text": [
      "Darius 13 100m Fly\n"
     ]
    }
   ],
   "source": [
    "swimmer,age,category,type = fn.removesuffix(\".txt\").split(\"-\")\n",
    "\n",
    "print(swimmer,age,category,type)"
   ]
  },
  {
   "cell_type": "markdown",
   "metadata": {},
   "source": [
    "<h3><b>TASK #2</b> Process the data in the file</h3>\n",
    "\n",
    "<ul>\n",
    "<li>Read the lines from the file</li>\n",
    "<li>Ignore the second line</li>\n",
    "<li>Break the first line apart by “,” to produce a list of times</li>\n",
    "<li>Take each of the times and convert them to a number from the “mins:secs.hundredths” format</li>\n",
    "<li>Display the variables from Task #1, then the list of times and the calculated average from Task #2</li>\n",
    "</ul>"
   ]
  },
  {
   "cell_type": "code",
   "execution_count": 1,
   "metadata": {},
   "outputs": [
    {
     "name": "stdout",
     "output_type": "stream",
     "text": [
      "['1:27.95,1:21.07,1:30.96,1:23.22,1:27.95,1:28.30\\n']\n"
     ]
    }
   ],
   "source": [
    "#Read the lines from the file\n",
    "#Ignore the second line\n",
    "\n",
    "#readlines() returns a list of lines from the file with a newline character at the end of each line.\n",
    "FN = \"Darius-13-100m-Fly.txt\"\n",
    "FOLDER=\"assets\\\\swimdata\"\n",
    "data = \"\"\n",
    "with open(FOLDER+'\\\\'+FN) as df:\n",
    "    data = df.readlines()\n",
    "    print(data)"
   ]
  },
  {
   "cell_type": "code",
   "execution_count": 8,
   "metadata": {},
   "outputs": [
    {
     "name": "stdout",
     "output_type": "stream",
     "text": [
      "['1:27.95', '1:21.07', '1:30.96', '1:23.22', '1:27.95', '1:28.30']\n"
     ]
    }
   ],
   "source": [
    "#Break the line apart by \",\" to produce a list of items\n",
    "times = data[0].strip().split(\",\")\n",
    "print(times)"
   ]
  },
  {
   "cell_type": "code",
   "execution_count": 11,
   "metadata": {},
   "outputs": [
    {
     "name": "stdout",
     "output_type": "stream",
     "text": [
      "[8795, 8107, 9096, 8322, 8795, 8830]\n"
     ]
    }
   ],
   "source": [
    "#Take each of the times and convert them to a number from the “mins:secs.hundredths” format\n",
    "converts =[]\n",
    "for data in times:\n",
    "    minutes, rest = data.split(':')\n",
    "    seconds, hundredths = rest.split('.')\n",
    "    converted_time = int(minutes)*60*100+int(seconds)*100+int(hundredths)\n",
    "    converts.append(converted_time)\n",
    "\n",
    "print(converts)"
   ]
  },
  {
   "cell_type": "code",
   "execution_count": 13,
   "metadata": {},
   "outputs": [
    {
     "name": "stdout",
     "output_type": "stream",
     "text": [
      "8657.5\n"
     ]
    }
   ],
   "source": [
    "#Calculate the average\n",
    "import statistics\n",
    "avg= statistics.mean(converts)\n",
    "print(avg)"
   ]
  },
  {
   "cell_type": "code",
   "execution_count": 18,
   "metadata": {},
   "outputs": [
    {
     "name": "stdout",
     "output_type": "stream",
     "text": [
      "86.575\n",
      "86.58\n",
      "1:26.58\n"
     ]
    }
   ],
   "source": [
    "#Convert the result into mins:secs.hundreths format\n",
    "# Divide the avg by 100 will give seconds and hundredths\n",
    "print(avg/100)\n",
    "rounded_avg = round(avg/100,2)\n",
    "print(rounded_avg)\n",
    "min_sec,hundredths = str(rounded_avg).split('.')\n",
    "min = int(min_sec)//60\n",
    "sec =  int(min_sec) - min*60\n",
    "print(str(min)+':'+str(sec)+'.'+hundredths)\n"
   ]
  },
  {
   "cell_type": "markdown",
   "metadata": {},
   "source": [
    "<h2>Now let's begin with the Function defination and execute it from file</h2>"
   ]
  },
  {
   "cell_type": "code",
   "execution_count": 19,
   "metadata": {},
   "outputs": [
    {
     "name": "stdout",
     "output_type": "stream",
     "text": [
      "['1:27.95,1:21.07,1:30.96,1:23.22,1:27.95,1:28.30\\n']\n",
      "[8795, 8107, 9096, 8322, 8795, 8830]\n",
      "8657.5\n",
      "86.575\n",
      "86.58\n",
      "1:26.58\n"
     ]
    },
    {
     "data": {
      "text/plain": [
       "'1:26.58'"
      ]
     },
     "execution_count": 19,
     "metadata": {},
     "output_type": "execute_result"
    }
   ],
   "source": [
    "import statistics\n",
    "\n",
    "def get_swimmer_data(fn: str)-> tuple:\n",
    "    \"\"\"GIven the name of a swimmer's file, extract all the requird data, then return it to the caller as tuple\"\"\"\n",
    "    FOLDER=\"assets\\\\swimdata\"\n",
    "    data = \"\"\n",
    "    with open(FOLDER+'\\\\'+fn) as df:\n",
    "        data = df.readlines()\n",
    "        print(data)\n",
    "\n",
    "    #Break the line apart by \",\" to produce a list of items\n",
    "    times = data[0].strip().split(\",\")\n",
    "\n",
    "    converts =[]\n",
    "    for data in times:\n",
    "        minutes, rest = data.split(':')\n",
    "        seconds, hundredths = rest.split('.')\n",
    "        converted_time = int(minutes)*60*100+int(seconds)*100+int(hundredths)\n",
    "        converts.append(converted_time)\n",
    "\n",
    "    print(converts)\n",
    "    avg= statistics.mean(converts)\n",
    "    print(avg)\n",
    "    #Convert the result into mins:secs.hundreths format\n",
    "    # Divide the avg by 100 will give seconds and hundredths\n",
    "    print(avg/100)\n",
    "    rounded_avg = round(avg/100,2)\n",
    "    print(rounded_avg)\n",
    "    min_sec,hundredths = str(rounded_avg).split('.')\n",
    "    min = int(min_sec)//60\n",
    "    sec =  int(min_sec) - min*60\n",
    "    result = str(min)+':'+str(sec)+'.'+hundredths\n",
    "\n",
    "    print(result)\n",
    "    return(result)\n",
    "    \n",
    "get_swimmer_data(\"Darius-13-100m-Fly.txt\")"
   ]
  },
  {
   "cell_type": "code",
   "execution_count": 71,
   "metadata": {},
   "outputs": [],
   "source": [
    "import sys\n",
    "sys.path.append('../Methods')"
   ]
  },
  {
   "cell_type": "markdown",
   "metadata": {},
   "source": [
    "<h2>Let's call the method from the external file</h2>"
   ]
  },
  {
   "cell_type": "code",
   "execution_count": 72,
   "metadata": {},
   "outputs": [
    {
     "name": "stdout",
     "output_type": "stream",
     "text": [
      "['1:27.95,1:21.07,1:30.96,1:23.22,1:27.95,1:28.30\\n']\n",
      "[8795, 8107, 9096, 8322, 8795, 8830]\n",
      "8657.5\n",
      "86.575\n",
      "86.58\n",
      "1:26.58\n"
     ]
    },
    {
     "data": {
      "text/plain": [
       "'1:26.58'"
      ]
     },
     "execution_count": 72,
     "metadata": {},
     "output_type": "execute_result"
    }
   ],
   "source": [
    "from GetSwimData import get_swim_data\n",
    "\n",
    "get_swim_data(\"Darius-13-100m-Fly.txt\")"
   ]
  },
  {
   "cell_type": "code",
   "execution_count": null,
   "metadata": {},
   "outputs": [],
   "source": []
  }
 ],
 "metadata": {
  "kernelspec": {
   "display_name": "Python 3",
   "language": "python",
   "name": "python3"
  },
  "language_info": {
   "codemirror_mode": {
    "name": "ipython",
    "version": 3
   },
   "file_extension": ".py",
   "mimetype": "text/x-python",
   "name": "python",
   "nbconvert_exporter": "python",
   "pygments_lexer": "ipython3",
   "version": "3.10.11"
  },
  "orig_nbformat": 4
 },
 "nbformat": 4,
 "nbformat_minor": 2
}
