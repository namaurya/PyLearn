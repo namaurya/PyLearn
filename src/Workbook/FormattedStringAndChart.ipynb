{
 "cells": [
  {
   "cell_type": "markdown",
   "metadata": {},
   "source": [
    "<h3>Let's show the Swimmers data which we extracted in <i>FunctionModuleAndFiles.ipynb<i></h3>\n",
    "<h4>First we will try to open static html file</h4>"
   ]
  },
  {
   "cell_type": "code",
   "execution_count": 9,
   "metadata": {},
   "outputs": [
    {
     "data": {
      "text/plain": [
       "True"
      ]
     },
     "execution_count": 9,
     "metadata": {},
     "output_type": "execute_result"
    }
   ],
   "source": [
    "import os\n",
    "import webbrowser\n",
    "\n",
    "webbrowser.open(os.path.realpath(\"./assets/graphics/bar.html\"))"
   ]
  },
  {
   "cell_type": "markdown",
   "metadata": {},
   "source": [
    "<h4>Now let's bring the swimmers data.</h4>"
   ]
  },
  {
   "cell_type": "code",
   "execution_count": 10,
   "metadata": {},
   "outputs": [],
   "source": [
    "import sys\n",
    "sys.path.append('../Methods')"
   ]
  },
  {
   "cell_type": "code",
   "execution_count": 11,
   "metadata": {},
   "outputs": [],
   "source": [
    "sys.path.append('../headfirstsupportfiles/chapter04')"
   ]
  },
  {
   "cell_type": "code",
   "execution_count": null,
   "metadata": {},
   "outputs": [],
   "source": [
    "from GetSwimData_Logical import get_swim_data_logical\n",
    "from hfpy_utils import convert2range\n",
    "\n",
    "import os\n",
    "FOLDER=\"assets\\\\swimdata\"\n",
    "swim_files_log = os.listdir(FOLDER)\n",
    "swim_files_log.remove('.DS_Store')\n"
   ]
  },
  {
   "cell_type": "markdown",
   "metadata": {},
   "source": [
    "<h3> Now create chart for each Swimmer's record and store as an HTML</h3>"
   ]
  },
  {
   "cell_type": "code",
   "execution_count": null,
   "metadata": {},
   "outputs": [],
   "source": [
    "\n",
    "for files in swim_files_log:\n",
    "    html = f\"\"\"<!DOCTYPE html>\n",
    "    <html>\n",
    "        <head>\n",
    "            <title>\n",
    "                A simple bar chart\n",
    "            </title>\n",
    "        </head>\n",
    "        <body>\"\"\"\n",
    "    svgs = \"\"\n",
    "    (swimmer, age, distance, stroke, avg, average_str, times, converts) = get_swim_data_logical(files)\n",
    "    fromMax = max(converts)\n",
    "    svgs = \"\"\n",
    "    for n,t in enumerate(times):\n",
    "        bar_width= convert2range(converts[n], 0, max(converts), 0, 400)\n",
    "        title = f\"{swimmer} swam {distance}m {stroke} in {average_str} minutes\"\n",
    "        svgs = svgs + f\"\"\"<svg height=\"30\" width = \"{avg}\">\n",
    "            <rect width=\"{bar_width}\" height=\"30\" style=\"fill:rgb(0,0,255);stroke-width:3;stroke:rgb(0,0,0)\"/>\n",
    "        </svg>{t}<br/>\"\"\"\n",
    "    \n",
    "    footer =f\"\"\"\n",
    "    <p>Average time: {average_str}</p>\n",
    "    </body>\n",
    "    </html>\n",
    "    \"\"\"\n",
    "    final = html + svgs + footer\n",
    "    print(final)\n",
    "\n",
    "    file_name= f\"charts/{files.removesuffix('.txt')}.html\"\n",
    "    with open(file_name, \"w\") as f:\n",
    "        print(final, file=f)\n",
    "        # webbrowser.open(\"file://\" + os.path.realpath(file_name))"
   ]
  }
 ],
 "metadata": {
  "kernelspec": {
   "display_name": "Python 3",
   "language": "python",
   "name": "python3"
  },
  "language_info": {
   "codemirror_mode": {
    "name": "ipython",
    "version": 3
   },
   "file_extension": ".py",
   "mimetype": "text/x-python",
   "name": "python",
   "nbconvert_exporter": "python",
   "pygments_lexer": "ipython3",
   "version": "3.10.11"
  },
  "orig_nbformat": 4
 },
 "nbformat": 4,
 "nbformat_minor": 2
}
